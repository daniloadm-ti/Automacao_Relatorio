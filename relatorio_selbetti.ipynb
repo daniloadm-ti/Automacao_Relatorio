{
 "cells": [
  {
   "cell_type": "code",
   "execution_count": 37,
   "id": "5d1f5a02-a4af-4797-839a-f62046bdcb17",
   "metadata": {},
   "outputs": [
    {
     "name": "stdout",
     "output_type": "stream",
     "text": [
      "Hora atual: 2024-03-22 12:36:08.527602\n"
     ]
    }
   ],
   "source": [
    "#CÓDIGO PARA ATUALIZAR O WEBDRIVER AUTOMATICAMENTE\n",
    "from selenium import webdriver\n",
    "from selenium.webdriver.chrome.service import Service\n",
    "from selenium.webdriver.common.keys import Keys\n",
    "from webdriver_manager.chrome import ChromeDriverManager\n",
    "from selenium.webdriver.common.by import By\n",
    "import datetime\n",
    "import schedule\n",
    "import time\n",
    "\n",
    "# Obtenha a data e hora atual\n",
    "agora = datetime.datetime.now()\n",
    "\n",
    "# Imprima a hora atual\n",
    "print(\"Hora atual:\", agora)\n",
    "\n",
    "# Obtenha a data e hora atual\n",
    "agora = datetime.datetime.now()\n",
    "\n",
    "# Defina a hora de execução para hoje às 12:25\n",
    "hora_execucao = datetime.datetime(agora.year, agora.month, agora.day, 12, 36)\n",
    "\n",
    "# Verifique se a hora atual é igual à hora de execução\n",
    "if agora == hora_execucao:\n",
    "    print(\"Hora de execução alcançada. Executando o código...\")\n",
    "    \n",
    "\n",
    "\n",
    "    servico = Service(ChromeDriverManager().install())\n",
    "    navegador = webdriver.Chrome(service=servico)\n",
    "\n",
    "    # Inicialize o navegador WebDriver (por exemplo, Chrome)\n",
    "    navegador = webdriver.Chrome()\n",
    "    \n",
    "    # Maximizar a janela do navegador\n",
    "    navegador.maximize_window()\n",
    "    \n",
    "    #ABRIR OTRS\n",
    "    navegador.get(\"https://otrs.cjf.jus.br/otrs/index.pl?Action=AgentStatistics;Subaction=Edit;StatID=76\")\n",
    "    \n",
    "    #FAZER LOGIN NO OTRS\n",
    "      \n",
    "    campo_login = navegador.find_element(By.ID, 'User')\n",
    "    campo_login.send_keys(\"danilo.alves\")\n",
    "    campo_senha = navegador.find_element(By.ID, 'Password')\n",
    "    campo_senha.send_keys(\"sua_senha\")\n",
    "\n",
    "    #EXECUTAR O RELATÓRIO (ACESSO)\n",
    "    \n",
    "    botao = navegador.find_element(By.CLASS_NAME, 'fa-caret-square-o-right')\n",
    "    botao.click()\n",
    "    \n",
    "    #ALTERAR A DATA INICIAL E FINAL \n",
    "    campo_data_inicial = navegador.find_element(By.XPATH, '//*[@id=\"StartDateDay\"]/option[27]').click()\n",
    "    campo_mes_inicial = navegador.find_element(By.XPATH, '//*[@id=\"StartDateMonth\"]/option[2]').click()\n",
    "    campo_data_final = navegador.find_element(By.XPATH, '//*[@id=\"EndDateDay\"]/option[26]').click()\n",
    "    campo_mes_final = navegador.find_element(By.XPATH, '//*[@id=\"EndDateMonth\"]/option[3]').click()\n",
    "\n",
    "    #EXECUTAR O RELATÓRIO\n",
    "    \n",
    "    navegador.find_element(By.ID, 'StartStatistic').click()\n",
    "    time.sleep(120)\n",
    "    \n",
    "    #ABRIR SITE\n",
    "    navegador.get(\"https://correio.cjf.jus.br/owa/auth/logon.aspx?replaceCurrent=1&url=https%3a%2f%2fcorreio.cjf.jus.br%2fowa%2f\")\n",
    "    "
   ]
  },
  {
   "cell_type": "code",
   "execution_count": null,
   "id": "7bdfdff7-1147-43ce-b12e-a3a3050738f2",
   "metadata": {},
   "outputs": [],
   "source": []
  },
  {
   "cell_type": "code",
   "execution_count": null,
   "id": "c3dd5060-bd4f-4dd3-875d-f34788513264",
   "metadata": {},
   "outputs": [],
   "source": []
  },
  {
   "cell_type": "code",
   "execution_count": null,
   "id": "6b6ddf3c-39f2-4b86-9d0c-847a1717e7c7",
   "metadata": {},
   "outputs": [],
   "source": []
  },
  {
   "cell_type": "code",
   "execution_count": null,
   "id": "852bab6a-5db2-448c-88a1-94f5717fade2",
   "metadata": {},
   "outputs": [],
   "source": []
  },
  {
   "cell_type": "code",
   "execution_count": null,
   "id": "151ff1c8-7d13-4bf7-aa95-e09a78f47b33",
   "metadata": {},
   "outputs": [],
   "source": []
  },
  {
   "cell_type": "code",
   "execution_count": null,
   "id": "21bc36b7-179f-425a-b262-24fd81242969",
   "metadata": {},
   "outputs": [],
   "source": []
  },
  {
   "cell_type": "code",
   "execution_count": null,
   "id": "8363e50c-bf77-4256-a1f3-ad81c3f51958",
   "metadata": {},
   "outputs": [],
   "source": []
  },
  {
   "cell_type": "code",
   "execution_count": null,
   "id": "988c00d1-64ce-4e35-b8e9-6e431f74f24d",
   "metadata": {},
   "outputs": [],
   "source": [
    "\n"
   ]
  },
  {
   "cell_type": "code",
   "execution_count": null,
   "id": "bc1e3df6-563c-4db2-94fd-ef91fb0b0c39",
   "metadata": {},
   "outputs": [],
   "source": []
  },
  {
   "cell_type": "code",
   "execution_count": null,
   "id": "a25f4a68-5608-49c7-be3c-8e4f90e98b24",
   "metadata": {},
   "outputs": [],
   "source": []
  },
  {
   "cell_type": "code",
   "execution_count": null,
   "id": "19bdcae9-80cd-4269-9f1b-b4ceddb2c393",
   "metadata": {},
   "outputs": [],
   "source": []
  },
  {
   "cell_type": "code",
   "execution_count": null,
   "id": "041f2c30-5a7a-4bfe-adc8-a22959f95c43",
   "metadata": {},
   "outputs": [],
   "source": []
  }
 ],
 "metadata": {
  "kernelspec": {
   "display_name": "Python 3 (ipykernel)",
   "language": "python",
   "name": "python3"
  },
  "language_info": {
   "codemirror_mode": {
    "name": "ipython",
    "version": 3
   },
   "file_extension": ".py",
   "mimetype": "text/x-python",
   "name": "python",
   "nbconvert_exporter": "python",
   "pygments_lexer": "ipython3",
   "version": "3.11.7"
  }
 },
 "nbformat": 4,
 "nbformat_minor": 5
}
